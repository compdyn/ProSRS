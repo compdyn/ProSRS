{
 "cells": [
  {
   "cell_type": "markdown",
   "metadata": {},
   "source": [
    "In this tutorial, we will illustrate ProSRS algorithm for advanced users. We will use the same 2D function as that in ``basic_general.ipynb``:\n",
    "<img width=\"354\" alt=\"demo_function\" src=\"https://user-images.githubusercontent.com/8780593/53434522-71f49500-39bc-11e9-81e1-a0f2121dbb37.png\">\n",
    "where $\\epsilon$ is normally distributed with mean 0 and standard deviation 0.1. \n",
    "\n",
    "Compared to the basic usage as shown in ``basic_general.ipynb``, more details under the hood of the ``optimizer.run()`` method will be revealed in this tutorial. This detailed piece of information will allow users to have finer control over the algorithm, which could be of particular interest to those, who have the needs that cannot be fulfilled by the default method. For example, some users may want to use [MPI](https://en.wikipedia.org/wiki/Message_Passing_Interface) for parallel evaluations rather than using the default ``map`` method in the [pathos](https://pypi.org/project/pathos/) package."
   ]
  },
  {
   "cell_type": "code",
   "execution_count": 1,
   "metadata": {},
   "outputs": [],
   "source": [
    "import os, sys\n",
    "prosrs_dir = os.path.dirname(os.getcwd()) # parent directory, which contains prosrs module\n",
    "sys.path.insert(0, prosrs_dir) # add to PYTHONPATH\n",
    "import prosrs\n",
    "import numpy as np\n",
    "from multiprocessing import Pool"
   ]
  },
  {
   "cell_type": "code",
   "execution_count": 2,
   "metadata": {},
   "outputs": [],
   "source": [
    "# Define the function that will be optimized over\n",
    "def f(x):\n",
    "    \"\"\"\n",
    "    Args:\n",
    "        \n",
    "        x (1d array): Function input.\n",
    "    \n",
    "    Returns:\n",
    "    \n",
    "        y (float): Function output.\n",
    "    \"\"\"\n",
    "    sd = 0.1\n",
    "    y = x[0]**2+x[1]**2+np.random.normal(0, sd)\n",
    "    return y"
   ]
  },
  {
   "cell_type": "code",
   "execution_count": 3,
   "metadata": {},
   "outputs": [
    {
     "name": "stdout",
     "output_type": "stream",
     "text": [
      "Optimization problem:\n",
      "- Name: Advanced_Demo\n",
      "- Dimension: 2\n",
      "- Domain: {'x': (-5.0, 5.0), 'y': (-5.0, 5.0)}\n",
      "- Response variable: 'z'\n",
      "- Global minimum: unknown\n",
      "- Global minimum locations: unknown\n"
     ]
    }
   ],
   "source": [
    "name = 'Advanced_Demo' # problem name\n",
    "domain = [(-5., 5.), (-5., 5.)] # function domain\n",
    "x_var = ['x', 'y'] # independent variable names\n",
    "y_var = 'z' # response variable name\n",
    "prob = prosrs.Problem(f, domain, name=name, x_var=x_var, y_var=y_var) # create problem object\n",
    "print(prob) # show problem info"
   ]
  },
  {
   "cell_type": "code",
   "execution_count": 4,
   "metadata": {},
   "outputs": [
    {
     "data": {
      "image/png": "[encoded data removed]",
      "text/plain": [
       "<Figure size 432x288 with 1 Axes>"
      ]
     },
     "metadata": {
      "needs_background": "light"
     },
     "output_type": "display_data"
    }
   ],
   "source": [
    "prob.visualize(n_samples=5000, plot='surface') # surface plot of (noisy) function"
   ]
  },
  {
   "cell_type": "code",
   "execution_count": 5,
   "metadata": {},
   "outputs": [],
   "source": [
    "# Set up optimization (the same as in ``basic_general.ipynb``)\n",
    "n_worker = 12 # number of workers\n",
    "n_cycle = 1 # number of optimization cycles\n",
    "optimizer = prosrs.Optimizer(prob, n_worker, n_cycle=n_cycle) # create optimizer object"
   ]
  },
  {
   "cell_type": "code",
   "execution_count": 6,
   "metadata": {},
   "outputs": [
    {
     "name": "stdout",
     "output_type": "stream",
     "text": [
      "Optimization configuration:\n",
      "- Number of workers: 12\n",
      "- Termination criterion: stop after completing 1 optimization cycles\n",
      "- Resuming from the last run?  No\n",
      "- Output directory: 'out'\n"
     ]
    }
   ],
   "source": [
    "# Show optimization configuration\n",
    "optimizer.show(select=['config'])"
   ]
  },
  {
   "cell_type": "code",
   "execution_count": 7,
   "metadata": {},
   "outputs": [],
   "source": [
    "# Define customized functions for parallel evaluations\n",
    "def atomic_eval(arg):\n",
    "    \"\"\"\n",
    "    An atomic evaluation wrapper.\n",
    "        \n",
    "    Args:\n",
    "        \n",
    "        arg (tuple): Function argument = (f, pt, seed), where\n",
    "            `f` is function, `pt` is the point to be evaluated,\n",
    "            and `seed` is the random seed.\n",
    "        \n",
    "    Returns:\n",
    "        \n",
    "        y (float): Function value.\n",
    "    \"\"\"\n",
    "    f, pt, seed = arg\n",
    "    np.random.seed(seed)\n",
    "    y = f(pt)\n",
    "    return y\n",
    "    \n",
    "def parallel_eval(f, pts, seeds):\n",
    "    \"\"\"\n",
    "    Evaluate a function in parallel using `multiprocessing module` <https://docs.python.org/2/library/multiprocessing.html>.\n",
    "    \n",
    "    Args:\n",
    "    \n",
    "        f (callable): Evaluation function, of which the input is 1d array and the output is float.\n",
    "        \n",
    "        pts (2d array): Points to be evaluated. Each element (row) is one point. Shape: (n, d).\n",
    "        \n",
    "        seeds (1d array): Random seed for each point in `pts`. Shape: (n,).\n",
    "    \n",
    "    Returns:\n",
    "    \n",
    "        vals (1d array): Function value for each point in `pts`. Shape: (n,).\n",
    "        \n",
    "    Note: \n",
    "        \n",
    "        This function essentially tries to parallelize the following for loop:\n",
    "        \n",
    "        vals = np.zeros(0)\n",
    "        for pt, seed in zip(pts, seeds):\n",
    "            np.random.seed(seed)\n",
    "            vals = np.append(vals, f(pt))\n",
    "    \"\"\"    \n",
    "    n = pts.shape[0] # number of points\n",
    "    p = Pool(n) # create a pool object\n",
    "    args = [(f, pt, seed) for pt, seed in zip(pts, seeds)]\n",
    "    vals = np.array(p.map(atomic_eval, args))\n",
    "    print('Evaluated proposed points using customized functions.')\n",
    "    return vals"
   ]
  },
  {
   "cell_type": "code",
   "execution_count": 8,
   "metadata": {},
   "outputs": [
    {
     "name": "stdout",
     "output_type": "stream",
     "text": [
      "\n",
      "Iteration 1:\n",
      "Proposing new points (DOE) .......... Done (time took: 1.60e-05 sec).\n",
      "Evaluated proposed points using customized functions.\n",
      "Updating optimizer state .......... Done (time took: 5.87e-04 sec).\n",
      "\n",
      "Iteration 2:\n",
      "Building RBF regression model .......... Done (time took: 3.56e-02 sec).\n",
      "Proposing new points .......... Done (time took: 4.09e-03 sec).\n",
      "Evaluated proposed points using customized functions.\n",
      "Updating optimizer state .......... Done (time took: 1.63e-03 sec).\n",
      "\n",
      "Iteration 3:\n",
      "Building RBF regression model .......... Done (time took: 3.39e-02 sec).\n",
      "Proposing new points .......... Done (time took: 5.04e-03 sec).\n",
      "Evaluated proposed points using customized functions.\n",
      "Updating optimizer state .......... Done (time took: 1.86e-03 sec).\n",
      "\n",
      "Iteration 4:\n",
      "Building RBF regression model .......... Done (time took: 3.87e-02 sec).\n",
      "Proposing new points .......... Done (time took: 7.18e-03 sec).\n",
      "Evaluated proposed points using customized functions.\n",
      "Updating optimizer state .......... Done (time took: 1.53e-03 sec).\n",
      "\n",
      "Iteration 5:\n",
      "Building RBF regression model .......... Done (time took: 3.60e-02 sec).\n",
      "Proposing new points .......... Done (time took: 5.56e-03 sec).\n",
      "Evaluated proposed points using customized functions.\n",
      "Updating optimizer state .......... Done (time took: 1.22e-03 sec).\n",
      "\n",
      "Iteration 6:\n",
      "Building RBF regression model .......... Done (time took: 3.23e-02 sec).\n",
      "Proposing new points .......... Done (time took: 5.92e-03 sec).\n",
      "Evaluated proposed points using customized functions.\n",
      "Updating optimizer state .......... Done (time took: 1.62e-03 sec).\n",
      "\n",
      "Iteration 7:\n",
      "Building RBF regression model .......... Done (time took: 3.55e-02 sec).\n",
      "Proposing new points .......... Done (time took: 6.32e-03 sec).\n",
      "Evaluated proposed points using customized functions.\n",
      "Updating optimizer state .......... Done (time took: 1.88e-03 sec).\n",
      "\n",
      "Iteration 8:\n",
      "Building RBF regression model .......... Done (time took: 5.26e-02 sec).\n",
      "Proposing new points .......... Done (time took: 7.15e-03 sec).\n",
      "Evaluated proposed points using customized functions.\n",
      "Updating optimizer state .......... Done (time took: 1.98e-03 sec).\n",
      "\n",
      "Iteration 9:\n",
      "Building RBF regression model .......... Done (time took: 5.95e-02 sec).\n",
      "Proposing new points .......... Done (time took: 8.00e-03 sec).\n",
      "Evaluated proposed points using customized functions.\n",
      "Updating optimizer state .......... Done (time took: 2.36e-03 sec).\n",
      "\n",
      "Iteration 10:\n",
      "Building RBF regression model .......... Done (time took: 6.08e-02 sec).\n",
      "Proposing new points .......... Done (time took: 1.05e-02 sec).\n",
      "Evaluated proposed points using customized functions.\n",
      "Updating optimizer state .......... Done (time took: 1.51e-03 sec).\n",
      "\n",
      "Iteration 11:\n",
      "Building RBF regression model .......... Done (time took: 7.61e-02 sec).\n",
      "Proposing new points .......... Done (time took: 1.27e-02 sec).\n",
      "Evaluated proposed points using customized functions.\n",
      "Updating optimizer state .......... Done (time took: 2.14e-03 sec).\n",
      "\n",
      "Iteration 12:\n",
      "Building RBF regression model .......... Done (time took: 8.10e-02 sec).\n",
      "Proposing new points .......... Done (time took: 1.09e-02 sec).\n",
      "Evaluated proposed points using customized functions.\n",
      "Updating optimizer state .......... Done (time took: 4.19e-03 sec).\n",
      "Zoom in (created a new child node)!\n",
      "\n",
      "Iteration 13:\n",
      "Building RBF regression model .......... Done (time took: 7.14e-02 sec).\n",
      "Proposing new points .......... Done (time took: 8.48e-03 sec).\n",
      "Evaluated proposed points using customized functions.\n",
      "Updating optimizer state .......... Done (time took: 2.38e-03 sec).\n",
      "\n",
      "Iteration 14:\n",
      "Building RBF regression model .......... Done (time took: 7.44e-02 sec).\n",
      "Proposing new points .......... Done (time took: 1.36e-02 sec).\n",
      "Evaluated proposed points using customized functions.\n",
      "Updating optimizer state .......... Done (time took: 3.62e-03 sec).\n",
      "\n",
      "Iteration 15:\n",
      "Building RBF regression model .......... Done (time took: 1.63e-01 sec).\n",
      "Proposing new points .......... Done (time took: 1.68e-02 sec).\n",
      "Evaluated proposed points using customized functions.\n",
      "Updating optimizer state .......... Done (time took: 3.46e-03 sec).\n",
      "\n",
      "Iteration 16:\n",
      "Building RBF regression model .......... Done (time took: 1.22e-01 sec).\n",
      "Proposing new points .......... Done (time took: 2.24e-02 sec).\n",
      "Evaluated proposed points using customized functions.\n",
      "Updating optimizer state .......... Done (time took: 2.41e-03 sec).\n",
      "\n",
      "Iteration 17:\n",
      "Building RBF regression model .......... Done (time took: 1.10e-01 sec).\n",
      "Proposing new points .......... Done (time took: 1.23e-02 sec).\n",
      "Evaluated proposed points using customized functions.\n",
      "Updating optimizer state .......... Done (time took: 1.87e-03 sec).\n",
      "\n",
      "Iteration 18:\n",
      "Building RBF regression model .......... Done (time took: 1.13e-01 sec).\n",
      "Proposing new points .......... Done (time took: 1.39e-02 sec).\n",
      "Evaluated proposed points using customized functions.\n",
      "Updating optimizer state .......... Done (time took: 2.17e-03 sec).\n",
      "\n",
      "Iteration 19:\n",
      "Building RBF regression model .......... Done (time took: 1.21e-01 sec).\n",
      "Proposing new points .......... Done (time took: 1.35e-02 sec).\n",
      "Evaluated proposed points using customized functions.\n",
      "Updating optimizer state .......... Done (time took: 1.77e-03 sec).\n",
      "\n",
      "Iteration 20:\n",
      "Building RBF regression model .......... Done (time took: 1.37e-01 sec).\n",
      "Proposing new points .......... Done (time took: 1.30e-02 sec).\n",
      "Evaluated proposed points using customized functions.\n",
      "Updating optimizer state .......... Done (time took: 2.16e-03 sec).\n",
      "\n",
      "Iteration 21:\n",
      "Building RBF regression model .......... Done (time took: 1.79e-01 sec).\n",
      "Proposing new points .......... Done (time took: 1.54e-02 sec).\n",
      "Evaluated proposed points using customized functions.\n",
      "Updating optimizer state .......... Done (time took: 3.89e-03 sec).\n",
      "Zoom in (created a new child node)!\n",
      "\n",
      "Iteration 22:\n",
      "Building RBF regression model .......... Done (time took: 1.13e-01 sec).\n",
      "Proposing new points .......... Done (time took: 1.24e-02 sec).\n",
      "Evaluated proposed points using customized functions.\n",
      "Updating optimizer state .......... Done (time took: 2.88e-03 sec).\n",
      "\n",
      "Iteration 23:\n",
      "Building RBF regression model .......... Done (time took: 1.29e-01 sec).\n",
      "Proposing new points .......... Done (time took: 1.42e-02 sec).\n",
      "Evaluated proposed points using customized functions.\n",
      "Updating optimizer state .......... Done (time took: 3.29e-03 sec).\n",
      "\n",
      "Iteration 24:\n",
      "Building RBF regression model .......... Done (time took: 1.35e-01 sec).\n",
      "Proposing new points .......... Done (time took: 1.45e-02 sec).\n",
      "Evaluated proposed points using customized functions.\n",
      "Updating optimizer state .......... Done (time took: 1.52e-03 sec).\n",
      "\n",
      "Iteration 25:\n",
      "Building RBF regression model .......... Done (time took: 2.88e-01 sec).\n",
      "Proposing new points .......... Done (time took: 2.54e-02 sec).\n",
      "Evaluated proposed points using customized functions.\n",
      "Updating optimizer state .......... Done (time took: 1.59e-03 sec).\n",
      "\n",
      "Iteration 26:\n",
      "Building RBF regression model .......... Done (time took: 2.43e-01 sec).\n",
      "Proposing new points .......... Done (time took: 2.18e-02 sec).\n",
      "Evaluated proposed points using customized functions.\n",
      "Updating optimizer state .......... Done (time took: 1.59e-03 sec).\n",
      "\n",
      "Iteration 27:\n",
      "Building RBF regression model .......... Done (time took: 2.67e-01 sec).\n",
      "Proposing new points .......... Done (time took: 2.11e-02 sec).\n",
      "Evaluated proposed points using customized functions.\n",
      "Updating optimizer state .......... Done (time took: 1.77e-03 sec).\n",
      "\n",
      "Iteration 28:\n",
      "Building RBF regression model .......... Done (time took: 1.82e-01 sec).\n",
      "Proposing new points .......... Done (time took: 1.84e-02 sec).\n",
      "Evaluated proposed points using customized functions.\n",
      "Updating optimizer state .......... Done (time took: 1.82e-03 sec).\n",
      "\n",
      "Iteration 29:\n",
      "Building RBF regression model .......... Done (time took: 3.26e-01 sec).\n",
      "Proposing new points .......... Done (time took: 2.82e-02 sec).\n",
      "Evaluated proposed points using customized functions.\n",
      "Updating optimizer state .......... Done (time took: 1.30e-02 sec).\n",
      "Restart for the next iteration!\n"
     ]
    }
   ],
   "source": [
    "# Run optimization\n",
    "while not optimizer.is_done():\n",
    "    \n",
    "    print('\\nIteration %d:' % (optimizer.i_iter+1))\n",
    "    \n",
    "    # propose new points\n",
    "    new_pt = optimizer.propose(verbose=True)\n",
    "    \n",
    "    # evaluate proposed points using customized functions\n",
    "    new_val = parallel_eval(prob.f, new_pt, optimizer.eval_seeds)\n",
    "    \n",
    "    # update optimizer state with the new evaluations\n",
    "    optimizer.update(new_pt, new_val, verbose=True)"
   ]
  },
  {
   "cell_type": "code",
   "execution_count": 9,
   "metadata": {},
   "outputs": [
    {
     "name": "stdout",
     "output_type": "stream",
     "text": [
      "Optimization result:\n",
      "- Best point:\n",
      "  x = 0.0675409, y = 0.0368185\n",
      "- Best (noisy) value:\n",
      "  z = -0.267438\n"
     ]
    }
   ],
   "source": [
    "# Show optimization results (the same as in ``basic_general.ipynb``)\n",
    "optimizer.show(select=['result']) "
   ]
  },
  {
   "cell_type": "code",
   "execution_count": 10,
   "metadata": {},
   "outputs": [
    {
     "data": {
      "image/png": "[encoded data removed]",
      "text/plain": [
       "<Figure size 432x288 with 1 Axes>"
      ]
     },
     "metadata": {
      "needs_background": "light"
     },
     "output_type": "display_data"
    }
   ],
   "source": [
    "# Visualize optimization results (the same as in ``basic_general.ipynb``)\n",
    "optimizer.visualize(select=['optim_curve']) # optimization curve"
   ]
  },
  {
   "cell_type": "code",
   "execution_count": 11,
   "metadata": {},
   "outputs": [
    {
     "name": "stdout",
     "output_type": "stream",
     "text": [
      "Running posterior evaluations (n_point = 100, n_repeat = 100) .......... Done (time took: 6.41e-01 sec).\n"
     ]
    }
   ],
   "source": [
    "# Now select the true best point from all the points that have been evaluated so far\n",
    "n_top = 100 # select from top 100 points\n",
    "n_repeat = 100 # number of Monte Carlo repeats\n",
    "optimizer.posterior_eval(n_top=n_top, n_repeat=n_repeat) # run posterior Monte Carlo evaluations"
   ]
  },
  {
   "cell_type": "code",
   "execution_count": 12,
   "metadata": {},
   "outputs": [
    {
     "name": "stdout",
     "output_type": "stream",
     "text": [
      "Posterior evaluation results:\n",
      "- Condition: run ProSRS algorithm for 29 iterations, then run posterior evaluations with 100 Monte Carlo repeats\n",
      "- True best point:\n",
      "  x = -0.00398517, y = 0.0188333\n",
      "- True best value:\n",
      "  z = -0.0168467\n",
      "- Top 10 points sorted by mean response estimates in Column 3:\n",
      "               x             y     mean of z    std of z\n",
      "     -0.00398517     0.0188333    -0.0168467     0.10382\n",
      "        0.052794   -0.00990112     -0.014664   0.0968309\n",
      "     0.000525153     0.0398275    -0.0105333    0.100591\n",
      "       0.0291564    0.00948164   -0.00996051    0.108875\n",
      "      -0.0676148     -0.033974   -0.00731349    0.113011\n",
      "        0.023577     0.0114009   -0.00713064   0.0882457\n",
      "       0.0159035     0.0130352   -0.00673901   0.0997713\n",
      "      -0.0307424     0.0257534   -0.00671296   0.0930354\n",
      "      -0.0133138   -0.00396448   -0.00552519   0.0986572\n",
      "      -0.0284368   -0.00717304   -0.00497546    0.099594\n"
     ]
    }
   ],
   "source": [
    "# Show posterior evaluation results (the same as in ``basic_general.ipynb``)\n",
    "optimizer.show(select=['post_result'], n_display=10) # display the true best point as well as top 10 points"
   ]
  },
  {
   "cell_type": "code",
   "execution_count": null,
   "metadata": {},
   "outputs": [],
   "source": []
  }
 ],
 "metadata": {
  "kernelspec": {
   "display_name": "Python 3",
   "language": "python",
   "name": "python3"
  },
  "language_info": {
   "codemirror_mode": {
    "name": "ipython",
    "version": 3
   },
   "file_extension": ".py",
   "mimetype": "text/x-python",
   "name": "python",
   "nbconvert_exporter": "python",
   "pygments_lexer": "ipython3",
   "version": "3.7.1"
  }
 },
 "nbformat": 4,
 "nbformat_minor": 2
}
