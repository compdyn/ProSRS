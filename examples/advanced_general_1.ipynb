{
 "cells": [
  {
   "cell_type": "markdown",
   "metadata": {},
   "source": [
    "In this tutorial, we will illustrate ProSRS algorithm for advanced users. We will use the same 2D function as that in ``basic_general.ipynb``:\n",
    "<img width=\"354\" alt=\"demo_function\" src=\"https://user-images.githubusercontent.com/8780593/53434522-71f49500-39bc-11e9-81e1-a0f2121dbb37.png\">\n",
    "where $\\epsilon$ is normally distributed with mean 0 and standard deviation 0.1. \n",
    "\n",
    "Compared to the basic usage as shown in ``basic_general.ipynb``, more details under the hood of the ``optimizer.run()`` method will be revealed in this tutorial. This detailed piece of information will allow users to have finer control over the algorithm, which could be of particular interest to those, who have the needs that cannot be fulfilled by the default method. For example, some users may want to use [MPI](https://en.wikipedia.org/wiki/Message_Passing_Interface) for parallel evaluations rather than using the default ``map`` method in the [pathos](https://pypi.org/project/pathos/) package."
   ]
  },
  {
   "cell_type": "code",
   "execution_count": 1,
   "metadata": {},
   "outputs": [],
   "source": [
    "import prosrs\n",
    "import numpy as np\n",
    "from multiprocessing import Pool"
   ]
  },
  {
   "cell_type": "code",
   "execution_count": 2,
   "metadata": {},
   "outputs": [],
   "source": [
    "# Define the function that will be optimized over\n",
    "def f(x):\n",
    "    \"\"\"\n",
    "    Args:\n",
    "        \n",
    "        x (1d array): Function input.\n",
    "    \n",
    "    Returns:\n",
    "    \n",
    "        y (float): Function output.\n",
    "    \"\"\"\n",
    "    sd = 0.1\n",
    "    y = x[0]**2+x[1]**2+np.random.normal(0, sd)\n",
    "    return y"
   ]
  },
  {
   "cell_type": "code",
   "execution_count": 3,
   "metadata": {},
   "outputs": [
    {
     "name": "stdout",
     "output_type": "stream",
     "text": [
      "Optimization problem:\n",
      "- Name: Advanced_Demo_1\n",
      "- Dimension: 2\n",
      "- Domain: {'x': (-5.0, 5.0), 'y': (-5.0, 5.0)}\n",
      "- Response variable: 'z'\n",
      "- Global minimum: unknown\n",
      "- Global minimum locations: unknown\n"
     ]
    }
   ],
   "source": [
    "# Define optimization prblem\n",
    "name = 'Advanced_Demo_1' # problem name\n",
    "domain = [(-5., 5.), (-5., 5.)] # function domain\n",
    "x_var = ['x', 'y'] # independent variable names\n",
    "y_var = 'z' # response variable name\n",
    "prob = prosrs.Problem(domain, func=f, name=name, x_var=x_var, y_var=y_var) # create problem object\n",
    "print(prob) # show problem info"
   ]
  },
  {
   "cell_type": "code",
   "execution_count": 4,
   "metadata": {},
   "outputs": [
    {
     "data": {
      "image/png": "[encoded data removed]",
      "text/plain": [
       "<Figure size 432x288 with 1 Axes>"
      ]
     },
     "metadata": {
      "needs_background": "light"
     },
     "output_type": "display_data"
    }
   ],
   "source": [
    "prob.visualize(n_samples=5000, plot='surface') # surface plot of (noisy) function"
   ]
  },
  {
   "cell_type": "code",
   "execution_count": 5,
   "metadata": {},
   "outputs": [],
   "source": [
    "# Set up optimization (the same as in ``basic_general.ipynb``)\n",
    "n_worker = 12 # number of workers\n",
    "n_cycle = 1 # number of optimization cycles\n",
    "optimizer = prosrs.Optimizer(prob, n_worker, n_cycle=n_cycle) # create optimizer object"
   ]
  },
  {
   "cell_type": "code",
   "execution_count": 6,
   "metadata": {},
   "outputs": [
    {
     "name": "stdout",
     "output_type": "stream",
     "text": [
      "Optimization configuration:\n",
      "- Number of workers: 12\n",
      "- Termination criterion: stop after completing 1 optimization cycles\n",
      "- Resuming from the last run?  No\n",
      "- Output directory: 'out'\n"
     ]
    }
   ],
   "source": [
    "# Show optimization configuration\n",
    "optimizer.show(select=['config'])"
   ]
  },
  {
   "cell_type": "code",
   "execution_count": 7,
   "metadata": {},
   "outputs": [],
   "source": [
    "# Define customized functions for parallel evaluations\n",
    "def atomic_eval(arg):\n",
    "    \"\"\"\n",
    "    An atomic evaluation wrapper.\n",
    "        \n",
    "    Args:\n",
    "        \n",
    "        arg (tuple): Function argument = (f, pt, seed), where\n",
    "            `f` is function, `pt` is the point to be evaluated,\n",
    "            and `seed` is the random seed.\n",
    "        \n",
    "    Returns:\n",
    "        \n",
    "        y (float): Function value.\n",
    "    \"\"\"\n",
    "    f, pt, seed = arg\n",
    "    np.random.seed(seed)\n",
    "    y = f(pt)\n",
    "    return y\n",
    "    \n",
    "def parallel_eval(f, pts, seeds):\n",
    "    \"\"\"\n",
    "    Evaluate a function in parallel using `multiprocessing module` <https://docs.python.org/2/library/multiprocessing.html>.\n",
    "    \n",
    "    Args:\n",
    "    \n",
    "        f (callable): Evaluation function, of which the input is 1d array and the output is float.\n",
    "        \n",
    "        pts (2d array): Points to be evaluated. Each element (row) is one point. Shape: (n, d).\n",
    "        \n",
    "        seeds (1d array): Random seed for each point in `pts`. Shape: (n,).\n",
    "    \n",
    "    Returns:\n",
    "    \n",
    "        vals (1d array): Function value for each point in `pts`. Shape: (n,).\n",
    "        \n",
    "    Note: \n",
    "        \n",
    "        This function essentially tries to parallelize the following for loop:\n",
    "        \n",
    "        vals = np.zeros(0)\n",
    "        for pt, seed in zip(pts, seeds):\n",
    "            np.random.seed(seed)\n",
    "            vals = np.append(vals, f(pt))\n",
    "    \"\"\"    \n",
    "    n = pts.shape[0] # number of points\n",
    "    p = Pool(n) # create a pool object\n",
    "    args = [(f, pt, seed) for pt, seed in zip(pts, seeds)]\n",
    "    vals = np.array(p.map(atomic_eval, args))\n",
    "    return vals"
   ]
  },
  {
   "cell_type": "code",
   "execution_count": 8,
   "metadata": {},
   "outputs": [
    {
     "name": "stdout",
     "output_type": "stream",
     "text": [
      "\n",
      "Iteration 1:\n",
      "Proposing new points (DOE) .......... Done (time took: 1.03e-05 sec).\n",
      "Evaluated proposed points using customized functions.\n",
      "Updating optimizer state .......... Done (time took: 9.92e-04 sec).\n",
      "\n",
      "Iteration 2:\n",
      "Building RBF regression model .......... Done (time took: 3.32e-02 sec).\n",
      "Proposing new points .......... Done (time took: 3.49e-03 sec).\n",
      "Evaluated proposed points using customized functions.\n",
      "Updating optimizer state .......... Done (time took: 2.35e-03 sec).\n",
      "\n",
      "Iteration 3:\n",
      "Building RBF regression model .......... Done (time took: 2.90e-02 sec).\n",
      "Proposing new points .......... Done (time took: 4.79e-03 sec).\n",
      "Evaluated proposed points using customized functions.\n",
      "Updating optimizer state .......... Done (time took: 1.83e-03 sec).\n",
      "\n",
      "Iteration 4:\n",
      "Building RBF regression model .......... Done (time took: 3.09e-02 sec).\n",
      "Proposing new points .......... Done (time took: 4.95e-03 sec).\n",
      "Evaluated proposed points using customized functions.\n",
      "Updating optimizer state .......... Done (time took: 1.63e-03 sec).\n",
      "\n",
      "Iteration 5:\n",
      "Building RBF regression model .......... Done (time took: 3.08e-02 sec).\n",
      "Proposing new points .......... Done (time took: 5.80e-03 sec).\n",
      "Evaluated proposed points using customized functions.\n",
      "Updating optimizer state .......... Done (time took: 1.91e-03 sec).\n",
      "\n",
      "Iteration 6:\n",
      "Building RBF regression model .......... Done (time took: 3.31e-02 sec).\n",
      "Proposing new points .......... Done (time took: 5.98e-03 sec).\n",
      "Evaluated proposed points using customized functions.\n",
      "Updating optimizer state .......... Done (time took: 2.09e-03 sec).\n",
      "\n",
      "Iteration 7:\n",
      "Building RBF regression model .......... Done (time took: 4.09e-02 sec).\n",
      "Proposing new points .......... Done (time took: 7.58e-03 sec).\n",
      "Evaluated proposed points using customized functions.\n",
      "Updating optimizer state .......... Done (time took: 9.95e-04 sec).\n",
      "\n",
      "Iteration 8:\n",
      "Building RBF regression model .......... Done (time took: 5.02e-02 sec).\n",
      "Proposing new points .......... Done (time took: 7.45e-03 sec).\n",
      "Evaluated proposed points using customized functions.\n",
      "Updating optimizer state .......... Done (time took: 8.88e-04 sec).\n",
      "\n",
      "Iteration 9:\n",
      "Building RBF regression model .......... Done (time took: 6.03e-02 sec).\n",
      "Proposing new points .......... Done (time took: 9.21e-03 sec).\n",
      "Evaluated proposed points using customized functions.\n",
      "Updating optimizer state .......... Done (time took: 8.16e-04 sec).\n",
      "\n",
      "Iteration 10:\n",
      "Building RBF regression model .......... Done (time took: 5.91e-02 sec).\n",
      "Proposing new points .......... Done (time took: 9.18e-03 sec).\n",
      "Evaluated proposed points using customized functions.\n",
      "Updating optimizer state .......... Done (time took: 1.28e-03 sec).\n",
      "\n",
      "Iteration 11:\n",
      "Building RBF regression model .......... Done (time took: 8.52e-02 sec).\n",
      "Proposing new points .......... Done (time took: 1.34e-02 sec).\n",
      "Evaluated proposed points using customized functions.\n",
      "Updating optimizer state .......... Done (time took: 3.98e-03 sec).\n",
      "\n",
      "Iteration 12:\n",
      "Building RBF regression model .......... Done (time took: 9.64e-02 sec).\n",
      "Proposing new points .......... Done (time took: 1.09e-02 sec).\n",
      "Evaluated proposed points using customized functions.\n",
      "Updating optimizer state .......... Done (time took: 3.34e-03 sec).\n",
      "Zoom in (created a new child node)!\n",
      "\n",
      "Iteration 13:\n",
      "Building RBF regression model .......... Done (time took: 1.09e-01 sec).\n",
      "Proposing new points .......... Done (time took: 9.00e-03 sec).\n",
      "Evaluated proposed points using customized functions.\n",
      "Updating optimizer state .......... Done (time took: 4.03e-03 sec).\n",
      "\n",
      "Iteration 14:\n",
      "Building RBF regression model .......... Done (time took: 9.46e-02 sec).\n",
      "Proposing new points .......... Done (time took: 1.42e-02 sec).\n",
      "Evaluated proposed points using customized functions.\n",
      "Updating optimizer state .......... Done (time took: 2.89e-03 sec).\n",
      "\n",
      "Iteration 15:\n",
      "Building RBF regression model .......... Done (time took: 9.99e-02 sec).\n",
      "Proposing new points .......... Done (time took: 1.17e-02 sec).\n",
      "Evaluated proposed points using customized functions.\n",
      "Updating optimizer state .......... Done (time took: 1.75e-03 sec).\n",
      "\n",
      "Iteration 16:\n",
      "Building RBF regression model .......... Done (time took: 1.32e-01 sec).\n",
      "Proposing new points .......... Done (time took: 1.91e-02 sec).\n",
      "Evaluated proposed points using customized functions.\n",
      "Updating optimizer state .......... Done (time took: 2.25e-03 sec).\n",
      "\n",
      "Iteration 17:\n",
      "Building RBF regression model .......... Done (time took: 1.29e-01 sec).\n",
      "Proposing new points .......... Done (time took: 1.56e-02 sec).\n",
      "Evaluated proposed points using customized functions.\n",
      "Updating optimizer state .......... Done (time took: 3.28e-03 sec).\n",
      "\n",
      "Iteration 18:\n",
      "Building RBF regression model .......... Done (time took: 9.91e-02 sec).\n",
      "Proposing new points .......... Done (time took: 1.29e-02 sec).\n",
      "Evaluated proposed points using customized functions.\n",
      "Updating optimizer state .......... Done (time took: 1.14e-03 sec).\n",
      "\n",
      "Iteration 19:\n",
      "Building RBF regression model .......... Done (time took: 1.31e-01 sec).\n",
      "Proposing new points .......... Done (time took: 1.35e-02 sec).\n",
      "Evaluated proposed points using customized functions.\n",
      "Updating optimizer state .......... Done (time took: 1.10e-03 sec).\n",
      "\n",
      "Iteration 20:\n",
      "Building RBF regression model .......... Done (time took: 1.46e-01 sec).\n",
      "Proposing new points .......... Done (time took: 1.39e-02 sec).\n",
      "Evaluated proposed points using customized functions.\n",
      "Updating optimizer state .......... Done (time took: 8.50e-04 sec).\n",
      "\n",
      "Iteration 21:\n",
      "Building RBF regression model .......... Done (time took: 2.66e-01 sec).\n",
      "Proposing new points .......... Done (time took: 1.72e-02 sec).\n",
      "Evaluated proposed points using customized functions.\n",
      "Updating optimizer state .......... Done (time took: 5.78e-03 sec).\n",
      "Zoom in (created a new child node)!\n",
      "\n",
      "Iteration 22:\n",
      "Building RBF regression model .......... Done (time took: 1.74e-01 sec).\n",
      "Proposing new points .......... Done (time took: 1.67e-02 sec).\n",
      "Evaluated proposed points using customized functions.\n",
      "Updating optimizer state .......... Done (time took: 2.77e-03 sec).\n",
      "\n",
      "Iteration 23:\n",
      "Building RBF regression model .......... Done (time took: 1.36e-01 sec).\n",
      "Proposing new points .......... Done (time took: 2.02e-02 sec).\n",
      "Evaluated proposed points using customized functions.\n",
      "Updating optimizer state .......... Done (time took: 3.08e-03 sec).\n",
      "\n",
      "Iteration 24:\n",
      "Building RBF regression model .......... Done (time took: 1.74e-01 sec).\n",
      "Proposing new points .......... Done (time took: 1.87e-02 sec).\n",
      "Evaluated proposed points using customized functions.\n",
      "Updating optimizer state .......... Done (time took: 3.45e-03 sec).\n",
      "\n",
      "Iteration 25:\n",
      "Building RBF regression model .......... Done (time took: 2.10e-01 sec).\n",
      "Proposing new points .......... Done (time took: 2.06e-02 sec).\n",
      "Evaluated proposed points using customized functions.\n",
      "Updating optimizer state .......... Done (time took: 2.54e-03 sec).\n",
      "\n",
      "Iteration 26:\n",
      "Building RBF regression model .......... Done (time took: 1.35e-01 sec).\n",
      "Proposing new points .......... Done (time took: 1.66e-02 sec).\n",
      "Evaluated proposed points using customized functions.\n",
      "Updating optimizer state .......... Done (time took: 1.19e-03 sec).\n",
      "\n",
      "Iteration 27:\n",
      "Building RBF regression model .......... Done (time took: 1.48e-01 sec).\n",
      "Proposing new points .......... Done (time took: 1.57e-02 sec).\n",
      "Evaluated proposed points using customized functions.\n",
      "Updating optimizer state .......... Done (time took: 1.01e-03 sec).\n",
      "\n",
      "Iteration 28:\n",
      "Building RBF regression model .......... Done (time took: 1.71e-01 sec).\n",
      "Proposing new points .......... Done (time took: 1.82e-02 sec).\n",
      "Evaluated proposed points using customized functions.\n",
      "Updating optimizer state .......... Done (time took: 1.09e-03 sec).\n",
      "\n",
      "Iteration 29:\n",
      "Building RBF regression model .......... Done (time took: 1.92e-01 sec).\n",
      "Proposing new points .......... Done (time took: 1.79e-02 sec).\n",
      "Evaluated proposed points using customized functions.\n",
      "Updating optimizer state .......... Done (time took: 6.53e-03 sec).\n",
      "Restart for the next iteration!\n"
     ]
    }
   ],
   "source": [
    "# Run optimization\n",
    "while not optimizer.is_done():\n",
    "    \n",
    "    print('\\nIteration %d:' % (optimizer.i_iter+1))\n",
    "    \n",
    "    # propose new points\n",
    "    new_pt = optimizer.propose(verbose=True)\n",
    "    \n",
    "    # evaluate proposed points using customized functions\n",
    "    new_val = parallel_eval(prob.f, new_pt, optimizer.eval_seeds)\n",
    "    print('Evaluated proposed points using customized functions.')\n",
    "    \n",
    "    # update optimizer state with the new evaluations\n",
    "    optimizer.update(new_pt, new_val, verbose=True)"
   ]
  },
  {
   "cell_type": "code",
   "execution_count": 9,
   "metadata": {},
   "outputs": [
    {
     "name": "stdout",
     "output_type": "stream",
     "text": [
      "Optimization result:\n",
      "- Best point:\n",
      "  x = 0.0675409, y = 0.0368185\n",
      "- Best (noisy) value:\n",
      "  z = -0.267438\n",
      "- Top 10 points sorted by (noisy) function values (Column 3):\n",
      "               x            y           z\n",
      "       0.0675409    0.0368185   -0.267438\n",
      "       0.0473768    0.0319884   -0.200975\n",
      "       0.0234784   -0.0618226   -0.200455\n",
      "     0.000525153    0.0398275   -0.189711\n",
      "      -0.0307424    0.0257534   -0.175184\n",
      "     -0.00406293   -0.0992571    -0.16525\n",
      "       0.0318244   0.00636367   -0.157786\n",
      "        0.108968    0.0169107   -0.152936\n",
      "       -0.106274   -0.0133742   -0.137044\n",
      "        0.161917   0.00381127    -0.13665\n"
     ]
    }
   ],
   "source": [
    "# Obtain top 10 points from the optimization, sorted by function values\n",
    "top_pt, top_val, _ = optimizer.top_pts(n_top=10)\n",
    "# Display these top 10 points using 'show' method\n",
    "optimizer.show(select=['result'], n_top=10) "
   ]
  },
  {
   "cell_type": "code",
   "execution_count": 10,
   "metadata": {},
   "outputs": [
    {
     "data": {
      "image/png": "[encoded data removed]",
      "text/plain": [
       "<Figure size 432x288 with 1 Axes>"
      ]
     },
     "metadata": {
      "needs_background": "light"
     },
     "output_type": "display_data"
    }
   ],
   "source": [
    "# Visualize optimization results\n",
    "optimizer.visualize(select=['optim_curve']) # optimization curve"
   ]
  },
  {
   "cell_type": "code",
   "execution_count": 11,
   "metadata": {},
   "outputs": [
    {
     "name": "stdout",
     "output_type": "stream",
     "text": [
      "Running posterior evaluations (n_point = 100, n_repeat = 100) .......... Done (time took: 6.75e-01 sec).\n"
     ]
    }
   ],
   "source": [
    "# Perform posterior evaluations\n",
    "n_top = 100 # use top 100 points as the candidates for the posterior best point\n",
    "n_repeat = 100 # number of Monte Carlo repeats\n",
    "optimizer.posterior_eval(n_top=n_top, n_repeat=n_repeat) # run posterior Monte Carlo evaluations"
   ]
  },
  {
   "cell_type": "code",
   "execution_count": 12,
   "metadata": {},
   "outputs": [
    {
     "name": "stdout",
     "output_type": "stream",
     "text": [
      "Posterior evaluation results:\n",
      "- Condition: run ProSRS algorithm for 29 iterations, then run posterior evaluations with 100 Monte Carlo repeats\n",
      "- Best point:\n",
      "  x = -0.00398517, y = 0.0188333\n",
      "- Best (mean) value:\n",
      "  z = -0.0168467\n",
      "- Top 10 points sorted by Monte Carlo mean estimates (Column 3):\n",
      "               x             y     mean of z    std of z\n",
      "     -0.00398517     0.0188333    -0.0168467     0.10382\n",
      "        0.052794   -0.00990112     -0.014664   0.0968309\n",
      "     0.000525153     0.0398275    -0.0105333    0.100591\n",
      "       0.0291564    0.00948164   -0.00996051    0.108875\n",
      "      -0.0676148     -0.033974   -0.00731349    0.113011\n",
      "        0.023577     0.0114009   -0.00713064   0.0882457\n",
      "       0.0159035     0.0130352   -0.00673901   0.0997713\n",
      "      -0.0307424     0.0257534   -0.00671296   0.0930354\n",
      "      -0.0133138   -0.00396448   -0.00552519   0.0986572\n",
      "      -0.0284368   -0.00717304   -0.00497546    0.099594\n"
     ]
    }
   ],
   "source": [
    "# Get optimization results after posterior evaluations\n",
    "best_point = optimizer.post_best_x # best point found (the one with the lowest Monte Carlo mean estimate)\n",
    "best_value = optimizer.post_best_y # best value found (the Monte Carlo mean estimate for 'optimizer.post_best_x')\n",
    "top_pt, top_mean_val, top_std_val, _ = optimizer.post_top_pts(n_top=10) # top 10 points in terms of Monte Carlo mean estimates\n",
    "# Display these results using 'show' method\n",
    "optimizer.show(select=['post_result'], n_top=10)"
   ]
  },
  {
   "cell_type": "code",
   "execution_count": null,
   "metadata": {},
   "outputs": [],
   "source": []
  }
 ],
 "metadata": {
  "kernelspec": {
   "display_name": "Python 3",
   "language": "python",
   "name": "python3"
  },
  "language_info": {
   "codemirror_mode": {
    "name": "ipython",
    "version": 3
   },
   "file_extension": ".py",
   "mimetype": "text/x-python",
   "name": "python",
   "nbconvert_exporter": "python",
   "pygments_lexer": "ipython3",
   "version": "3.7.1"
  }
 },
 "nbformat": 4,
 "nbformat_minor": 2
}
